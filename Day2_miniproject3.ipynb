{
  "nbformat": 4,
  "nbformat_minor": 0,
  "metadata": {
    "colab": {
      "provenance": []
    },
    "kernelspec": {
      "name": "python3",
      "display_name": "Python 3"
    },
    "language_info": {
      "name": "python"
    }
  },
  "cells": [
    {
      "cell_type": "code",
      "execution_count": 1,
      "metadata": {
        "colab": {
          "base_uri": "https://localhost:8080/"
        },
        "id": "C0VGyDU-Tsrk",
        "outputId": "1620d2d3-205c-435f-f363-2100d36eba11"
      },
      "outputs": [
        {
          "output_type": "stream",
          "name": "stdout",
          "text": [
            "Time taken for 200MB: 2.51 seconds\n",
            "Time taken for 400MB: 7.64 seconds\n",
            "Time taken for 600MB: 5.74 seconds\n",
            "Time taken for 800MB: 8.57 seconds\n",
            "Time taken for 1000MB: 11.56 seconds\n",
            "Results: {200: 2.511230945587158, 400: 7.637037992477417, 600: 5.741295099258423, 800: 8.56797170639038, 1000: 11.56321382522583}\n"
          ]
        }
      ],
      "source": [
        "import time\n",
        "import os\n",
        "\n",
        "def create_text_file(filename, size_mb):\n",
        "    with open(filename, 'w') as f:\n",
        "        f.write('a' * size_mb * 1024 * 1024)\n",
        "\n",
        "def convert_to_uppercase(filename):\n",
        "    start_time = time.time()\n",
        "    with open(filename, 'r') as f:\n",
        "        content = f.read()\n",
        "    content_upper = content.upper()\n",
        "    with open(filename, 'w') as f:\n",
        "        f.write(content_upper)\n",
        "    end_time = time.time()\n",
        "    return end_time - start_time\n",
        "\n",
        "def test_conversion_times():\n",
        "    sizes_mb = [200, 400, 600, 800, 1000]\n",
        "    results = {}\n",
        "\n",
        "    for size in sizes_mb:\n",
        "        filename = f'test_{size}MB.txt'\n",
        "        create_text_file(filename, size)\n",
        "        time_taken = convert_to_uppercase(filename)\n",
        "        results[size] = time_taken\n",
        "        os.remove(filename)\n",
        "        print(f\"Time taken for {size}MB: {time_taken:.2f} seconds\")\n",
        "\n",
        "    return results\n",
        "\n",
        "def main():\n",
        "    results = test_conversion_times()\n",
        "    print(\"Results:\", results)\n",
        "\n",
        "if __name__ == \"__main__\":\n",
        "    main()"
      ]
    }
  ]
}